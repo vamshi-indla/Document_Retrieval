{
 "cells": [
  {
   "cell_type": "code",
   "execution_count": 15,
   "metadata": {
    "collapsed": true
   },
   "outputs": [],
   "source": [
    "RAW_DOCS_FOLDER   = \"C:\\\\Users\\\\vindla\\\\Downloads\\\\Cg_DS4\\\\GDSCDataSet\\\\ConceptualSearch\"\n",
    "os.chdir(RAW_DOCS_FOLDER)\n",
    "# OUTPUT FOLDER FOR DOCUMENT PROCESSING - USED IN REMAINING STEPS\n",
    "DOCS_FOLDER       = \"C:\\\\Users\\\\vindla\\\\Downloads\\\\Cg_DS4\\\\GDSCDataSet\\\\ConceptualSearch\\\\proc\"\n",
    "# REMOVE ALL FILES IN OUPUT FOLDER FIRST (SO YOU CAN RE-RUN AT WILL)\n",
    "EMPTY_OUTPUT_FOLDER = True\n",
    "\n",
    "FILE_MASK = \".*\\.csv\"\n",
    "PARSE_HTML = True\n",
    "FILE_SIZE_LIMIT_CHARS = 1000"
   ]
  },
  {
   "cell_type": "code",
   "execution_count": 29,
   "metadata": {
    "collapsed": true
   },
   "outputs": [],
   "source": [
    "#Shared\n",
    "import re\n",
    "re_collapse_spaces = re.compile(\"\\s+\")\n",
    "\n",
    "def collapse_spaces(s):\n",
    "    return re_collapse_spaces.sub(\" \", s).strip()\n",
    "\n",
    "re1 = re.compile(\"[;:\\'\\\"\\*/\\),\\(\\|\\s\\?]+\")\n",
    "def clean_str(s):\n",
    "    s = str(s).replace(\"'s\",\" \")\n",
    "    #doesn't work in regex\n",
    "    s = s.replace(\"-\", \" \").replace(\"\\\\\",\" \")\n",
    "    s = re1.sub(\" \",s).strip()\n",
    "    return collapse_spaces(s)"
   ]
  },
  {
   "cell_type": "code",
   "execution_count": 10,
   "metadata": {
    "collapsed": true
   },
   "outputs": [],
   "source": [
    "import os, re, time\n",
    "from bs4 import BeautifulSoup\n",
    "from nltk.tokenize import sent_tokenize\n",
    "\n",
    "REPL = \".\\n\"\n",
    "\n",
    "def strip_non_ascii(text):\n",
    "    return ''.join(i for i in text if ord(i)<128)\n",
    "\n",
    "# Make common html tags line breaks\n",
    "def pre_process_text(txt):\n",
    "    txt = txt.replace(\"</li><li>\", REPL).replace(\"<li>\", REPL).replace(\"</li>\", REPL)\n",
    "    txt = txt.replace(\"<br>\", REPL)\n",
    "    txt = txt.replace(\"<br/>\", REPL)\n",
    "    txt = txt.replace(\"<br />\", REPL)\n",
    "    txt = txt.replace(\"<p>\",  REPL)\n",
    "    txt = txt.replace(\"<p/>\",  REPL)\n",
    "    txt = txt.replace(\"<p />\",  REPL)\n",
    "    txt = txt.replace(\"</p>\", REPL)\n",
    "    txt = txt.replace(\". .\",  REPL)\n",
    "    txt = txt.replace(\"&nbsp;\", \" \")\n",
    "    while \"..\" in txt:\n",
    "        txt = txt.replace(\"..\", \". \")\n",
    "    while \"  \" in txt:    \n",
    "        txt = txt.replace(\"  \", \" \")\n",
    "    return txt\n",
    "\n",
    "def visible(element):\n",
    "    if element.parent.name in ['style', 'script', '[document]', 'head', 'title']:\n",
    "        return False\n",
    "    elif re.match('<!--.*-->', strip_non_ascii(element)):\n",
    "        return False\n",
    "    return True\n",
    "\n",
    "def get_text(html):\n",
    "    bs = BeautifulSoup(html)\n",
    "    texts = bs.findAll(text=True)\n",
    "    visible_texts = filter(visible, texts)\n",
    "    return REPL.join(visible_texts)\n",
    "\n",
    "def parse_html(html):\n",
    "    txt = get_text(pre_process_text(html))\n",
    "    return txt\n",
    "\n",
    "def split_into_sentences(txt):\n",
    "    txt = strip_non_ascii(txt)\n",
    "    sents = map(clean_str,sent_tokenize(txt))\n",
    "    return filter(lambda s: len(s.strip()) > 5, sents)\n",
    "\n",
    "def find_files(folder, regex, remove_empty = False):\n",
    "    \"\"\"\n",
    "    Find all files matching the [regex] pattern in [folder]\n",
    "\n",
    "    folder  :   string\n",
    "                    folder to search (not recursive)\n",
    "    regex   :   string (NOT regex object)\n",
    "                    pattern to match\n",
    "    \"\"\"\n",
    "    files = os.listdir(folder)\n",
    "    matches = [os.path.abspath(os.path.join(folder, f))\n",
    "               for f in files\n",
    "               if re.search(regex, f, re.IGNORECASE)]\n",
    "\n",
    "    if remove_empty:\n",
    "        matches = [f for f in matches if os.path.getsize(f) > 0]\n",
    "    matches.sort()\n",
    "    return matches\n",
    "\n",
    "def delete_files(folder, regex):\n",
    "    \"\"\" Deletes files in [folder] that match [regex] \n",
    "        e.g. delete_files(\"C:/Dice Data/DelTest\", \".*\\.txt\", 30)\n",
    "\n",
    "        folder      :   string\n",
    "                            folder to search\n",
    "        regex       :   string\n",
    "                            file pattern to match\n",
    "    \"\"\"\n",
    "    matches = find_files(folder, regex)\n",
    "    for full_path in matches:\n",
    "        os.remove(full_path)"
   ]
  },
  {
   "cell_type": "code",
   "execution_count": 34,
   "metadata": {},
   "outputs": [
    {
     "name": "stdout",
     "output_type": "stream",
     "text": [
      "0\n",
      "1000\n",
      "Loading and processing documents took 1.174837350845337 seconds\n"
     ]
    }
   ],
   "source": [
    "import ntpath\n",
    "import pandas as pd\n",
    "\n",
    "start = time.time()\n",
    "\n",
    "#df = pd.read_csv(\"quora.csv\")\n",
    "df.columns = ['ID','Q1','Q2']\n",
    "df.head(5)\n",
    "for i in range(len(df[:1001])):\n",
    "    sents = split_into_sentences(df.Q1[i])\n",
    "    doc = \"\\n\".join(sents)\n",
    "    fout_name = DOCS_FOLDER + \"\\\\\" + str(df.ID[i]) + \"_proc.txt\"\n",
    "    with open(fout_name, \"w+\") as fout:\n",
    "        fout.write(doc)\n",
    "    \n",
    "    if i % 1000 == 0:\n",
    "        print(i)\n",
    "end = time.time()\n",
    "print(\"Loading and processing documents took %s seconds\" % str(end - start))"
   ]
  },
  {
   "cell_type": "code",
   "execution_count": null,
   "metadata": {
    "collapsed": true
   },
   "outputs": [],
   "source": []
  }
 ],
 "metadata": {
  "kernelspec": {
   "display_name": "Python 3",
   "language": "python",
   "name": "python3"
  },
  "language_info": {
   "codemirror_mode": {
    "name": "ipython",
    "version": 3
   },
   "file_extension": ".py",
   "mimetype": "text/x-python",
   "name": "python",
   "nbconvert_exporter": "python",
   "pygments_lexer": "ipython3",
   "version": "3.6.3"
  }
 },
 "nbformat": 4,
 "nbformat_minor": 1
}
