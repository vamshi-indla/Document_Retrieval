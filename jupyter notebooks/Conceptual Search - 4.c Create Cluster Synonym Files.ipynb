{
 "cells": [
  {
   "cell_type": "code",
   "execution_count": 29,
   "metadata": {},
   "outputs": [],
   "source": [
    "#top 5k dice keywords\n",
    "NUM_CLUSTERS         = 5 # for 25k keywords and phrases\n",
    "# number of cluster synonyms to map to\n",
    "NUM_CLUSTER_SYNONYMS = 5\n",
    "KEY_WORDS_FILE       = \"C:\\\\Users\\\\vindla\\\\Downloads\\\\Cg_DS4\\\\GDSCDataSet\\\\ConceptualSearch\\\\sample input files\\\\top_5k_keywords.txt\"\n",
    "SYNONYMS_QRY_FILE    = \"C:\\\\Users\\\\vindla\\\\Downloads\\\\Cg_DS4\\\\GDSCDataSet\\\\ConceptualSearch\\\\sample input files\\\\cluster_keyword_synonym_qry.txt\"\n",
    "SYNONYMS_INDEX_FILE  = \"C:\\\\Users\\\\vindla\\\\Downloads\\\\Cg_DS4\\\\GDSCDataSet\\\\ConceptualSearch\\\\sample input files\\\\cluster_keyword_synonym_ix.txt\"\n",
    "PHRASES_FILE         = \"C:\\\\Users\\\\vindla\\\\Downloads\\\\Cg_DS4\\\\GDSCDataSet\\\\ConceptualSearch\\\\sample input files\\\\Phrases.txt\"\n",
    "MODEL_FILE           = \"C:\\\\Users\\\\vindla\\\\Downloads\\\\Cg_DS4\\\\GDSCDataSet\\\\ConceptualSearch\\\\keyword_model.w2v\"\n",
    "CLUSTERS_FILE        = \"C:\\\\Users\\\\vindla\\\\Downloads\\\\Cg_DS4\\\\GDSCDataSet\\\\ConceptualSearch\\\\sample input files\\\\%i_clusters.txt\" % NUM_CLUSTERS"
   ]
  },
  {
   "cell_type": "code",
   "execution_count": 30,
   "metadata": {
    "collapsed": true
   },
   "outputs": [],
   "source": [
    "import numpy as np\n",
    "#Shared\n",
    "#just used to load phrases file\n",
    "def load_stop_words(stop_words_file):\n",
    "    stop_words = set()\n",
    "    with open(stop_words_file) as f:\n",
    "            for line in f:\n",
    "                word = line.strip()\n",
    "                if word[0] != \"#\":\n",
    "                    word = word.lower()\n",
    "                    stop_words.add(word)\n",
    "    return stop_words\n",
    "\n",
    "def get_vector(item, model):\n",
    "    vocab = model.wv.vocab[item]\n",
    "    vector = model.wv.syn0[vocab.index]\n",
    "    return vector\n",
    "\n",
    "def get_norm_vector(item, model):\n",
    "    if item not in model.wv.vocab:\n",
    "        return None\n",
    "    # for deserialized models, the norm vectors are not stored\n",
    "    vec = get_vector(item, model)\n",
    "    norm = np.linalg.norm(vec)\n",
    "    if norm != 0:\n",
    "        return vec / norm\n",
    "    return vec"
   ]
  },
  {
   "cell_type": "code",
   "execution_count": 31,
   "metadata": {
    "collapsed": true
   },
   "outputs": [],
   "source": [
    "import time\n",
    "grand_start = time.time()"
   ]
  },
  {
   "cell_type": "code",
   "execution_count": 41,
   "metadata": {},
   "outputs": [],
   "source": [
    "import numpy as np\n",
    "from collections import defaultdict\n",
    "\n",
    "#functions\n",
    "def is_valid_search_keyword(kw):\n",
    "    q_kw = \" \" + kw + \" \"\n",
    "    for wd in \"(,), and , or , not , true , TRUE , false , FALSE \".split(\",\"):\n",
    "        if wd in q_kw:\n",
    "            return False\n",
    "    # remove queries with negations in them\n",
    "    tokens = kw.split(\" \")\n",
    "    \n",
    "    # remove single char keywords\n",
    "    if len(tokens) == 1 and len(tokens[0]) == 1:\n",
    "        return False\n",
    "    \n",
    "    if any(map(lambda t: t.strip().startswith(\"-\"), tokens)):\n",
    "        return False\n",
    "    return True\n",
    "\n",
    "def map_keyword(kw):\n",
    "    return kw.replace(\" \", \"_\")\n",
    "\n",
    "def extract_clusters(ids, id2kwd):\n",
    "    clusters = defaultdict(set)\n",
    "    for kw_id, label in enumerate(ids):\n",
    "        kw = id2kwd[kw_id]\n",
    "        clusters[label].add(kw)\n",
    "    return clusters\n",
    "\n",
    "def extract_centroids(km_clusterer):\n",
    "    lbl2centroid = dict()\n",
    "    for i in range(len(km_clusterer.cluster_centers_)):\n",
    "        centroid = km_clusterer.cluster_centers_[i]\n",
    "        c_norm = np.linalg.norm(centroid)\n",
    "        if c_norm > 0.0:\n",
    "            n_centroid = centroid / c_norm\n",
    "        else:\n",
    "            n_centroid = centroid\n",
    "        lbl2centroid[i] = n_centroid\n",
    "    return lbl2centroid\n",
    "\n",
    "def compute_cluster_similarities(kwds, kwd2id, vectors, lbl2centroid):\n",
    "    kwd2cluster_sims = dict()\n",
    "    for kwd in kwds:\n",
    "        ix = kwd2id[kwd]\n",
    "        nvec = vectors[ix]\n",
    "        sims = []\n",
    "\n",
    "        for lbl, centroid in lbl2centroid.items():\n",
    "            cosine_sim = np.inner(nvec, centroid)\n",
    "            sims.append((lbl,cosine_sim))\n",
    "        sims = sorted(sims, key = lambda lbl_sim: (-lbl))\n",
    "        kwd2cluster_sims[kwd] = sims\n",
    "        if len(kwd2cluster_sims) % 1000 == 0:\n",
    "            print(\"%i computed out of %i\" % (len(kwd2cluster_sims), len(all_kwds)))\n",
    "    return kwd2cluster_sims\n",
    "\n",
    "# expand at query time\n",
    "# use with tfidf (on cluster labels) at index time by just mapping to cluster label\n",
    "def write_most_similar_clusters(topn, kwd2cluster_sims, synonym_qry_fname, synonyn_index_fname):\n",
    "    kwords = sorted(kwd2cluster_sims.keys())\n",
    "    cluster_label = lambda lbl: \"cluster_\" + str(lbl)\n",
    "    \n",
    "    with open(synonym_qry_fname, \"w+\") as qry_f:\n",
    "        for kword in kwords:\n",
    "            cl_sims = kwd2cluster_sims[kword]\n",
    "            # unlike the other methods, we DO want to include the first cluster here\n",
    "            # as it's a cluster rather than the top 10 or top 30 keyword method\n",
    "            top_clusters = cl_sims[:topn]                \n",
    "            if len(top_clusters) > 0:\n",
    "                qry_f.write(\"%s=>\" % kword)\n",
    "                for lbl, sim in top_clusters:                    \n",
    "                    qry_f.write(\"%s|%f \" %(cluster_label(lbl),sim))\n",
    "                qry_f.write(\"\\n\")\n",
    "                \n",
    "    with open(synonyn_index_fname, \"w+\") as f:\n",
    "        for kword in kwords:\n",
    "            # get top cluster label\n",
    "            lbl, sim = kwd2cluster_sims[kword][0]\n",
    "            f.write(\"%s=>%s\\n\" % (kword, cluster_label(lbl)))"
   ]
  },
  {
   "cell_type": "code",
   "execution_count": 42,
   "metadata": {},
   "outputs": [],
   "source": [
    "import gensim, time\n",
    "from gensim.models.word2vec import Word2Vec\n",
    "\n",
    "model = Word2Vec.load(MODEL_FILE)"
   ]
  },
  {
   "cell_type": "code",
   "execution_count": 43,
   "metadata": {},
   "outputs": [
    {
     "data": {
      "text/plain": [
       "1201"
      ]
     },
     "execution_count": 43,
     "metadata": {},
     "output_type": "execute_result"
    }
   ],
   "source": [
    "phrases = load_stop_words(PHRASES_FILE)\n",
    "len(phrases)"
   ]
  },
  {
   "cell_type": "code",
   "execution_count": 44,
   "metadata": {},
   "outputs": [
    {
     "name": "stdout",
     "output_type": "stream",
     "text": [
      "28 keywords loaded from C:\\Users\\vindla\\Downloads\\Cg_DS4\\GDSCDataSet\\ConceptualSearch\\sample input files\\top_5k_keywords.txt\n"
     ]
    }
   ],
   "source": [
    "keywords = []\n",
    "un_keywords = set()\n",
    "with open(KEY_WORDS_FILE) as f:\n",
    "    for line in f:\n",
    "        kw = line.strip()\n",
    "        if len(kw) > 0 and is_valid_search_keyword(kw):\n",
    "            keywords.append(kw)\n",
    "print(\"%i keywords loaded from %s\" % (len(keywords), KEY_WORDS_FILE))"
   ]
  },
  {
   "cell_type": "code",
   "execution_count": 45,
   "metadata": {},
   "outputs": [
    {
     "name": "stderr",
     "output_type": "stream",
     "text": [
      "C:\\Installations\\Anaconda\\lib\\site-packages\\ipykernel_launcher.py:16: DeprecationWarning: Call to deprecated `syn0` (Attribute will be removed in 4.0.0, use self.wv.vectors instead).\n",
      "  app.launch_new_instance()\n"
     ]
    },
    {
     "data": {
      "text/plain": [
       "(11, 11)"
      ]
     },
     "execution_count": 45,
     "metadata": {},
     "output_type": "execute_result"
    }
   ],
   "source": [
    "#get all keywords\n",
    "# remove any not in the model\n",
    "all_kwds = phrases.union(keywords)\n",
    "#all_kwds = set(keywords)\n",
    "for kwd in list(all_kwds):\n",
    "    if kwd not in model.wv.vocab:\n",
    "        all_kwds.remove(kwd)\n",
    "    splt = kwd.split(\" \")\n",
    "    # add in single word tokens from keywords\n",
    "    if splt and len(splt) > 1:\n",
    "        for wd in splt:\n",
    "            if wd.strip() and wd in model.wv.vocab:\n",
    "                all_kwds.add(wd)\n",
    "\n",
    "id2kwd = dict()\n",
    "kwd2id = dict()\n",
    "vectors = []\n",
    "for term in all_kwds:\n",
    "    id2kwd[len(vectors)] = term\n",
    "    kwd2id[term] = len(vectors)\n",
    "    vec = get_norm_vector(term, model)\n",
    "    vectors.append(vec)\n",
    "\n",
    "len(all_kwds), len(vectors)"
   ]
  },
  {
   "cell_type": "code",
   "execution_count": 46,
   "metadata": {},
   "outputs": [
    {
     "name": "stdout",
     "output_type": "stream",
     "text": [
      "Clustering vectors into 5 clusters\n",
      "Initialization complete\n",
      "start iteration\n",
      "done sorting\n",
      "end inner loop\n",
      "Iteration 0, inertia 0.0005451962298268488\n",
      "start iteration\n",
      "done sorting\n",
      "end inner loop\n",
      "Iteration 1, inertia 0.0005451962298268488\n",
      "center shift 0.000000e+00 within tolerance 2.933125e-11\n",
      "Initialization complete\n",
      "start iteration\n",
      "done sorting\n",
      "end inner loop\n",
      "Iteration 0, inertia 0.0005476406897684685\n",
      "start iteration\n",
      "done sorting\n",
      "end inner loop\n",
      "Iteration 1, inertia 0.0005476406897684685\n",
      "center shift 0.000000e+00 within tolerance 2.933125e-11\n",
      "Initialization complete\n",
      "start iteration\n",
      "done sorting\n",
      "end inner loop\n",
      "Iteration 0, inertia 0.0005355506152130843\n",
      "start iteration\n",
      "done sorting\n",
      "end inner loop\n",
      "Iteration 1, inertia 0.0005355506152130843\n",
      "center shift 0.000000e+00 within tolerance 2.933125e-11\n",
      "Initialization complete\n",
      "start iteration\n",
      "done sorting\n",
      "end inner loop\n",
      "Iteration 0, inertia 0.0005456969970241461\n",
      "start iteration\n",
      "done sorting\n",
      "end inner loop\n",
      "Iteration 1, inertia 0.0005456969970241461\n",
      "center shift 0.000000e+00 within tolerance 2.933125e-11\n",
      "Initialization complete\n",
      "start iteration\n",
      "done sorting\n",
      "end inner loop\n",
      "Iteration 0, inertia 0.000549159793305118\n",
      "start iteration\n",
      "done sorting\n",
      "end inner loop\n",
      "Iteration 1, inertia 0.000549159793305118\n",
      "center shift 0.000000e+00 within tolerance 2.933125e-11\n",
      "Creating 5 clusters took 0 seconds\n"
     ]
    }
   ],
   "source": [
    "from sklearn import cluster\n",
    "from sklearn.cluster import KMeans\n",
    "import time\n",
    "start = time.time()\n",
    "\n",
    "# don't parallelize (n_jobs = -1), doesn't seem to work\n",
    "print(\"Clustering vectors into %i clusters\" % NUM_CLUSTERS)\n",
    "km_clusterer = KMeans(n_clusters=NUM_CLUSTERS, n_jobs=1, verbose=1, n_init=5)\n",
    "ids = km_clusterer.fit_predict(vectors)\n",
    "\n",
    "end = time.time()\n",
    "print(\"Creating %i clusters took %i seconds\" % (NUM_CLUSTERS, end - start))"
   ]
  },
  {
   "cell_type": "code",
   "execution_count": 47,
   "metadata": {},
   "outputs": [
    {
     "data": {
      "text/plain": [
       "(5, 5)"
      ]
     },
     "execution_count": 47,
     "metadata": {},
     "output_type": "execute_result"
    }
   ],
   "source": [
    "lbl2cluster = extract_clusters(ids, id2kwd)\n",
    "lbl2centroid = extract_centroids(km_clusterer)\n",
    "\n",
    "len(lbl2cluster), len(lbl2centroid)"
   ]
  },
  {
   "cell_type": "code",
   "execution_count": 48,
   "metadata": {},
   "outputs": [
    {
     "name": "stdout",
     "output_type": "stream",
     "text": [
      "Sorting the clusters for each of the 11 keywords took 0 seconds\n"
     ]
    }
   ],
   "source": [
    "import time\n",
    "start = time.time()\n",
    "\n",
    "kwd2cluster_sims = compute_cluster_similarities(all_kwds, kwd2id, vectors, lbl2centroid)\n",
    "end = time.time()\n",
    "print(\"Sorting the clusters for each of the %i keywords took %i seconds\" % (len(all_kwds),end - start))"
   ]
  },
  {
   "cell_type": "code",
   "execution_count": 49,
   "metadata": {},
   "outputs": [],
   "source": [
    "write_most_similar_clusters(NUM_CLUSTER_SYNONYMS, kwd2cluster_sims, SYNONYMS_QRY_FILE, SYNONYMS_INDEX_FILE)"
   ]
  },
  {
   "cell_type": "code",
   "execution_count": 50,
   "metadata": {},
   "outputs": [
    {
     "name": "stdout",
     "output_type": "stream",
     "text": [
      "Cluster generation and processing took 759 seconds\n"
     ]
    }
   ],
   "source": [
    "grand_end = time.time()\n",
    "print(\"Cluster generation and processing took %i mseconds\" % (grand_end - grand_start))"
   ]
  },
  {
   "cell_type": "markdown",
   "metadata": {},
   "source": [
    "# Examine the Clusters"
   ]
  },
  {
   "cell_type": "code",
   "execution_count": 52,
   "metadata": {},
   "outputs": [
    {
     "data": {
      "text/plain": [
       "[{'a', 'b', 'd', 's'}, {'I', 'c', 'm'}, {'x'}, {'e'}, {'i', 't'}]"
      ]
     },
     "execution_count": 52,
     "metadata": {},
     "output_type": "execute_result"
    }
   ],
   "source": [
    "list(lbl2cluster.values())[0:100]"
   ]
  },
  {
   "cell_type": "markdown",
   "metadata": {},
   "source": [
    "# Dump Clusters to File for Later Analysis"
   ]
  },
  {
   "cell_type": "code",
   "execution_count": 53,
   "metadata": {},
   "outputs": [],
   "source": [
    "with open(CLUSTERS_FILE, \"w+\") as f:\n",
    "    for lbl, words in lbl2cluster.items():\n",
    "        f.write(str(lbl) + \"|\")\n",
    "        line = \",\".join(sorted(words))\n",
    "        f.write(line + \"\\n\")"
   ]
  },
  {
   "cell_type": "code",
   "execution_count": null,
   "metadata": {
    "collapsed": true
   },
   "outputs": [],
   "source": []
  }
 ],
 "metadata": {
  "kernelspec": {
   "display_name": "Python 3",
   "language": "python",
   "name": "python3"
  },
  "language_info": {
   "codemirror_mode": {
    "name": "ipython",
    "version": 3
   },
   "file_extension": ".py",
   "mimetype": "text/x-python",
   "name": "python",
   "nbconvert_exporter": "python",
   "pygments_lexer": "ipython3",
   "version": "3.6.3"
  }
 },
 "nbformat": 4,
 "nbformat_minor": 1
}
